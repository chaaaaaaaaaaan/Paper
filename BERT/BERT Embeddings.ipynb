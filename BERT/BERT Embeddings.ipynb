{
 "cells": [
  {
   "cell_type": "markdown",
   "metadata": {
    "id": "p_x51sfP_Fjk"
   },
   "source": [
    "# BERT Embeddings Tutorial\n",
    "\n",
    "Reference  \n",
    "https://github.com/google-research/bert  \n",
    "https://github.com/SKTBrain/KoBERT  \n",
    "https://github.com/monologg/KoBERT-Transformers  \n",
    "https://codlingual.tistory.com/98  \n",
    "https://mccormickml.com/2019/05/14/BERT-word-embeddings-tutorial/#31-running-bert-on-our-text  \n",
    "https://chloelab.tistory.com/25\n"
   ]
  },
  {
   "cell_type": "code",
   "execution_count": null,
   "metadata": {
    "id": "U-Q9Ssee4aMt"
   },
   "outputs": [],
   "source": [
    "!pip install pytorch-pretrained-bert"
   ]
  },
  {
   "cell_type": "code",
   "execution_count": null,
   "metadata": {
    "id": "h-mQmYF64J0O"
   },
   "outputs": [],
   "source": [
    "import torch\n",
    "from pytorch_pretrained_bert import BertTokenizer, BertModel, BertForMaskedLM"
   ]
  },
  {
   "cell_type": "code",
   "execution_count": null,
   "metadata": {
    "id": "R9ddzSYR4SU-"
   },
   "outputs": [],
   "source": [
    "tokenizer = BertTokenizer.from_pretrained('bert-base-uncased')"
   ]
  },
  {
   "cell_type": "code",
   "execution_count": null,
   "metadata": {
    "colab": {
     "base_uri": "https://localhost:8080/"
    },
    "executionInfo": {
     "elapsed": 7,
     "status": "ok",
     "timestamp": 1629354160381,
     "user": {
      "displayName": "정종찬",
      "photoUrl": "",
      "userId": "02422834151550199890"
     },
     "user_tz": -540
    },
    "id": "C2Smmrh84kbv",
    "outputId": "61bbe193-87d9-42ce-b88a-ea468f3a9e2a"
   },
   "outputs": [
    {
     "name": "stdout",
     "output_type": "stream",
     "text": [
      "[CLS]           101\n",
      "after         2,044\n",
      "stealing     11,065\n",
      "money         2,769\n",
      "from          2,013\n",
      "the           1,996\n",
      "bank          2,924\n",
      "vault        11,632\n",
      ",             1,010\n",
      "the           1,996\n",
      "bank          2,924\n",
      "robber       27,307\n",
      "was           2,001\n",
      "seen          2,464\n",
      "fishing       5,645\n",
      "on            2,006\n",
      "the           1,996\n",
      "mississippi   5,900\n",
      "river         2,314\n",
      "bank          2,924\n",
      ".             1,012\n",
      "[SEP]           102\n"
     ]
    }
   ],
   "source": [
    "#토큰화\n",
    "text = \"After stealing money from the bank vault, the bank robber was seen \" \\\n",
    "\"fishing on the Mississippi river bank.\"\n",
    "\n",
    "#[CLS] 문장의 시작, [SEP] 문장의 끝\n",
    "marked_text = \"[CLS] \" + text + \" [SEP]\" \n",
    "tokenized_text = tokenizer.tokenize(marked_text)\n",
    "\n",
    "indexed_tokens = tokenizer.convert_tokens_to_ids(tokenized_text)\n",
    "\n",
    "for tup in zip(tokenized_text, indexed_tokens):\n",
    "    print('{:<12} {:>6,}'.format(tup[0], tup[1]))"
   ]
  },
  {
   "cell_type": "code",
   "execution_count": null,
   "metadata": {
    "id": "luoG2yWA4r98"
   },
   "outputs": [],
   "source": [
    "#input sentence가 하나면 모두 1, 둘이면 첫 문장은 0, 다음 문장은 1\n",
    "segments_ids = [1] * len(tokenized_text)"
   ]
  },
  {
   "cell_type": "code",
   "execution_count": null,
   "metadata": {
    "id": "8RZqA71W4ytB"
   },
   "outputs": [],
   "source": [
    "#tensor로 변환하기 \n",
    "tokens_tensor = torch.tensor([indexed_tokens])\n",
    "segments_tensor = torch.tensor([segments_ids])\n",
    "\n",
    "#load pre-trained model\n",
    "model = BertModel.from_pretrained('bert-base-uncased')\n",
    "model.eval()"
   ]
  },
  {
   "cell_type": "code",
   "execution_count": null,
   "metadata": {
    "id": "QLCxd27y5L3e"
   },
   "outputs": [],
   "source": [
    "#no_grad는 forwad하는 동안 컴퓨팅 그래프를 구성하지 않게 함(메모리 소비를 줄이고 속도 향상)\n",
    "with torch.no_grad():\n",
    "  encoded_layers, pooled = model(tokens_tensor, segments_tensor)"
   ]
  },
  {
   "cell_type": "code",
   "execution_count": null,
   "metadata": {
    "colab": {
     "base_uri": "https://localhost:8080/"
    },
    "executionInfo": {
     "elapsed": 34,
     "status": "ok",
     "timestamp": 1629354175400,
     "user": {
      "displayName": "정종찬",
      "photoUrl": "",
      "userId": "02422834151550199890"
     },
     "user_tz": -540
    },
    "id": "xoflUWmu5d6C",
    "outputId": "79d4f66e-2e71-4f30-c29c-23d5be909998"
   },
   "outputs": [
    {
     "name": "stdout",
     "output_type": "stream",
     "text": [
      "Layers : 12 \n",
      "Batchs : 1 \n",
      "Tokens : 22 \n",
      "Hidden_size : 768\n"
     ]
    }
   ],
   "source": [
    "print(f\"\"\"Layers : {len(encoded_layers)} \n",
    "Batchs : {len(encoded_layers[0])} \n",
    "Tokens : {len(encoded_layers[0][0])} \n",
    "Hidden_size : {len(encoded_layers[0][0][0])}\"\"\")"
   ]
  },
  {
   "cell_type": "code",
   "execution_count": null,
   "metadata": {
    "colab": {
     "base_uri": "https://localhost:8080/"
    },
    "executionInfo": {
     "elapsed": 32,
     "status": "ok",
     "timestamp": 1629354175400,
     "user": {
      "displayName": "정종찬",
      "photoUrl": "",
      "userId": "02422834151550199890"
     },
     "user_tz": -540
    },
    "id": "UnkiY4Jm564u",
    "outputId": "ba436aed-10ca-46c3-94c5-2ca134c338f1"
   },
   "outputs": [
    {
     "data": {
      "text/plain": [
       "torch.Size([12, 1, 22, 768])"
      ]
     },
     "execution_count": 223,
     "metadata": {},
     "output_type": "execute_result"
    }
   ],
   "source": [
    "#Layer를 하나로 합침\n",
    "token_embeddings = torch.stack(encoded_layers, dim=0)\n",
    "token_embeddings.size()"
   ]
  },
  {
   "cell_type": "code",
   "execution_count": null,
   "metadata": {
    "colab": {
     "base_uri": "https://localhost:8080/"
    },
    "executionInfo": {
     "elapsed": 29,
     "status": "ok",
     "timestamp": 1629354175400,
     "user": {
      "displayName": "정종찬",
      "photoUrl": "",
      "userId": "02422834151550199890"
     },
     "user_tz": -540
    },
    "id": "fMschEKM6W26",
    "outputId": "2046bf8d-fadf-46d0-fa4d-061dd90730b0"
   },
   "outputs": [
    {
     "data": {
      "text/plain": [
       "torch.Size([12, 22, 768])"
      ]
     },
     "execution_count": 224,
     "metadata": {},
     "output_type": "execute_result"
    }
   ],
   "source": [
    "#Batch 삭제\n",
    "token_embeddings = torch.squeeze(token_embeddings, dim=1)\n",
    "token_embeddings.size()"
   ]
  },
  {
   "cell_type": "code",
   "execution_count": null,
   "metadata": {
    "colab": {
     "base_uri": "https://localhost:8080/"
    },
    "executionInfo": {
     "elapsed": 28,
     "status": "ok",
     "timestamp": 1629354175401,
     "user": {
      "displayName": "정종찬",
      "photoUrl": "",
      "userId": "02422834151550199890"
     },
     "user_tz": -540
    },
    "id": "RbaesD4B6dPb",
    "outputId": "c33ee431-611a-416f-8e21-0c87fda5e2c4"
   },
   "outputs": [
    {
     "data": {
      "text/plain": [
       "torch.Size([22, 12, 768])"
      ]
     },
     "execution_count": 225,
     "metadata": {},
     "output_type": "execute_result"
    }
   ],
   "source": [
    "#Layer와 Token 자리 바꿈\n",
    "token_embeddings = token_embeddings.permute(1, 0, 2)\n",
    "token_embeddings.size()"
   ]
  },
  {
   "cell_type": "code",
   "execution_count": null,
   "metadata": {
    "colab": {
     "base_uri": "https://localhost:8080/"
    },
    "executionInfo": {
     "elapsed": 26,
     "status": "ok",
     "timestamp": 1629354175401,
     "user": {
      "displayName": "정종찬",
      "photoUrl": "",
      "userId": "02422834151550199890"
     },
     "user_tz": -540
    },
    "id": "iXxdot7S7Cco",
    "outputId": "70e92fe5-ce98-4b04-dc39-20b9e36e894f"
   },
   "outputs": [
    {
     "name": "stdout",
     "output_type": "stream",
     "text": [
      "Shape is: 22 x 768\n"
     ]
    }
   ],
   "source": [
    "#단어 벡터\n",
    "token_vec_sum = []\n",
    "for token in token_embeddings:\n",
    "  vector = torch.sum(token[-4:], dim=0)\n",
    "  token_vec_sum.append(vector)\n",
    "\n",
    "print ('Shape is: %d x %d' % (len(token_vec_sum), len(token_vec_sum[0])))"
   ]
  },
  {
   "cell_type": "code",
   "execution_count": null,
   "metadata": {
    "id": "bc6hLMbE7cAH"
   },
   "outputs": [],
   "source": [
    "#문장 벡터\n",
    "token_vec = encoded_layers[-2][0] #Low level일수록 문법에, High level일수록 문맥을 반영\n",
    "sentence_embeddings = torch.mean(token_vec, dim=0)"
   ]
  },
  {
   "cell_type": "code",
   "execution_count": null,
   "metadata": {
    "colab": {
     "base_uri": "https://localhost:8080/"
    },
    "executionInfo": {
     "elapsed": 23,
     "status": "ok",
     "timestamp": 1629354175401,
     "user": {
      "displayName": "정종찬",
      "photoUrl": "",
      "userId": "02422834151550199890"
     },
     "user_tz": -540
    },
    "id": "Ff2wMVUN7w61",
    "outputId": "83d3739f-0f9b-487b-a018-e242f1d0033d"
   },
   "outputs": [
    {
     "name": "stdout",
     "output_type": "stream",
     "text": [
      "0 [CLS]\n",
      "1 after\n",
      "2 stealing\n",
      "3 money\n",
      "4 from\n",
      "5 the\n",
      "6 bank\n",
      "7 vault\n",
      "8 ,\n",
      "9 the\n",
      "10 bank\n",
      "11 robber\n",
      "12 was\n",
      "13 seen\n",
      "14 fishing\n",
      "15 on\n",
      "16 the\n",
      "17 mississippi\n",
      "18 river\n",
      "19 bank\n",
      "20 .\n",
      "21 [SEP]\n"
     ]
    }
   ],
   "source": [
    "for i, token_str in enumerate(tokenized_text):\n",
    "  print (i, token_str)"
   ]
  },
  {
   "cell_type": "code",
   "execution_count": null,
   "metadata": {
    "colab": {
     "base_uri": "https://localhost:8080/"
    },
    "executionInfo": {
     "elapsed": 21,
     "status": "ok",
     "timestamp": 1629354175402,
     "user": {
      "displayName": "정종찬",
      "photoUrl": "",
      "userId": "02422834151550199890"
     },
     "user_tz": -540
    },
    "id": "VWbiscfV71wE",
    "outputId": "23b88d7b-14e9-4ae8-dee7-3172aca78eb5"
   },
   "outputs": [
    {
     "name": "stdout",
     "output_type": "stream",
     "text": [
      "First 5 vector values for each instance of \"bank\".\n",
      "\n",
      "bank vault    tensor([ 2.1319, -2.1413, -1.6260,  0.8638,  3.3173])\n",
      "bank robber   tensor([ 1.1868, -1.5298, -1.3770,  1.0648,  3.1446])\n",
      "river bank    tensor([ 1.1295, -1.4724, -0.7296, -0.0901,  2.4970])\n"
     ]
    }
   ],
   "source": [
    "print('First 5 vector values for each instance of \"bank\".')\n",
    "print('')\n",
    "print(\"bank vault   \", str(token_vec_sum[6][:5]))\n",
    "print(\"bank robber  \", str(token_vec_sum[10][:5]))\n",
    "print(\"river bank   \", str(token_vec_sum[19][:5]))"
   ]
  },
  {
   "cell_type": "code",
   "execution_count": null,
   "metadata": {
    "colab": {
     "base_uri": "https://localhost:8080/"
    },
    "executionInfo": {
     "elapsed": 18,
     "status": "ok",
     "timestamp": 1629354175402,
     "user": {
      "displayName": "정종찬",
      "photoUrl": "",
      "userId": "02422834151550199890"
     },
     "user_tz": -540
    },
    "id": "OoMvd1VE79iD",
    "outputId": "75e22bf6-fbfc-46cd-da74-9397eb2be722"
   },
   "outputs": [
    {
     "name": "stdout",
     "output_type": "stream",
     "text": [
      "Vector similarity for  *similar*  meanings:  0.95\n",
      "Vector similarity for *different* meanings:  0.68\n"
     ]
    }
   ],
   "source": [
    "#동음의이어 단어 벡터의 유사도\n",
    "from scipy.spatial.distance import cosine\n",
    "diff_bank = 1 - cosine(token_vec_sum[10], token_vec_sum[19])\n",
    "same_bank = 1 - cosine(token_vec_sum[10], token_vec_sum[6])\n",
    "\n",
    "print('Vector similarity for  *similar*  meanings:  %.2f' % same_bank)\n",
    "print('Vector similarity for *different* meanings:  %.2f' % diff_bank)"
   ]
  },
  {
   "cell_type": "markdown",
   "metadata": {
    "id": "-FROqXfNCFn8"
   },
   "source": [
    "# KoBERT Embeddings\n",
    "\n",
    "KoBERT Requirements\n",
    "- Python >= 3.6\n",
    "- PyTorch >= 1.7.0\n",
    "- MXNet >= 1.4.0\n",
    "- gluonnlp >= 0.6.0\n",
    "- sentencepiece >= 0.1.6\n",
    "- transformers >= 3.5.0"
   ]
  },
  {
   "cell_type": "code",
   "execution_count": null,
   "metadata": {
    "id": "OpxAJBf_9F4A"
   },
   "outputs": [],
   "source": [
    "!pip install transformers\n",
    "!pip install sentencepiece\n",
    "!pip install gluonnlp\n",
    "!pip install mxnet\n",
    "!pip install git+https://git@github.com/SKTBrain/KoBERT.git@master\n",
    "#!git clone https://github.com/monologg/KoBERT-Transformers #Huggingface에서 KoBERT 사용을 위한 설치, SKTBrain의 KoBERT와 동일"
   ]
  },
  {
   "cell_type": "code",
   "execution_count": null,
   "metadata": {
    "colab": {
     "base_uri": "https://localhost:8080/"
    },
    "executionInfo": {
     "elapsed": 9659,
     "status": "ok",
     "timestamp": 1629354209687,
     "user": {
      "displayName": "정종찬",
      "photoUrl": "",
      "userId": "02422834151550199890"
     },
     "user_tz": -540
    },
    "id": "YmTeAwis88jb",
    "outputId": "c5b681cf-ec1e-41fc-f979-22404a06c53b"
   },
   "outputs": [
    {
     "name": "stderr",
     "output_type": "stream",
     "text": [
      "The tokenizer class you load from this checkpoint is not the same type as the class this function is called from. It may result in unexpected tokenization. \n",
      "The tokenizer class you load from this checkpoint is 'BertTokenizer'. \n",
      "The class this function is called from is 'KoBertTokenizer'.\n"
     ]
    },
    {
     "data": {
      "text/plain": [
       "['[CLS]', '▁한국', '어', '▁모델', '을', '▁공유', '합니다', '.', '[SEP]']"
      ]
     },
     "execution_count": 232,
     "metadata": {},
     "output_type": "execute_result"
    }
   ],
   "source": [
    "from KoBERT_Transformers.kobert_transformers.tokenization_kobert import KoBertTokenizer\n",
    "from KoBERT_Transformers.kobert_transformers.load_model import get_kobert_model\n",
    "\n",
    "tokenizer = KoBertTokenizer.from_pretrained('monologg/kobert')\n",
    "model = get_kobert_model()\n",
    "#Kobert Tokenizer\n",
    "tokenizer.tokenize(\"[CLS] 한국어 모델을 공유합니다. [SEP]\")"
   ]
  },
  {
   "cell_type": "code",
   "execution_count": null,
   "metadata": {
    "colab": {
     "base_uri": "https://localhost:8080/"
    },
    "executionInfo": {
     "elapsed": 24,
     "status": "ok",
     "timestamp": 1629354209688,
     "user": {
      "displayName": "정종찬",
      "photoUrl": "",
      "userId": "02422834151550199890"
     },
     "user_tz": -540
    },
    "id": "yGG2LYZ_8_gI",
    "outputId": "6351964d-6ac6-4e77-9925-983de7933c05"
   },
   "outputs": [
    {
     "name": "stdout",
     "output_type": "stream",
     "text": [
      "[CLS]             2\n",
      "▁거리             871\n",
      "에             6,896\n",
      "▁은행           3,605\n",
      "나무            5,660\n",
      "가             5,330\n",
      "▁노            1,476\n",
      "랗                 0\n",
      "게             5,400\n",
      "▁물            2,135\n",
      "들             5,931\n",
      "었다            6,888\n",
      ".                54\n",
      "은행            7,087\n",
      "에             6,896\n",
      "▁               517\n",
      "가             5,330\n",
      "서             6,553\n",
      "▁신규           3,014\n",
      "▁통            4,743\n",
      "장을            7,187\n",
      "▁발급           2,239\n",
      "받고            6,289\n",
      "▁집            4,384\n",
      "에             6,896\n",
      "와             6,983\n",
      "서             6,553\n",
      "▁먹            2,010\n",
      "은             7,086\n",
      "▁은행           3,605\n",
      "은             7,086\n",
      "▁맛            1,967\n",
      "있             7,141\n",
      "었다            6,888\n",
      ".                54\n",
      "[SEP]             3\n"
     ]
    }
   ],
   "source": [
    "text = \"거리에 은행나무가 노랗게 물들었다.\"\\\n",
    "\"은행에 가서 신규 통장을 발급받고 집에와서 먹은 은행은 맛있었다.\"\n",
    "marked_text = \"[CLS] \" + text + \" [SEP]\"\n",
    "\n",
    "tokenized_text = tokenizer.tokenize(marked_text)\n",
    "indexed_tokens = tokenizer.convert_tokens_to_ids(tokenized_text)\n",
    "\n",
    "for tup in zip(tokenized_text, indexed_tokens):\n",
    "    print('{:<12} {:>6,}'.format(tup[0], tup[1]))"
   ]
  },
  {
   "cell_type": "code",
   "execution_count": null,
   "metadata": {
    "id": "7LscB92m9gyx"
   },
   "outputs": [],
   "source": [
    "segments_ids = [1] * len(tokenized_text)"
   ]
  },
  {
   "cell_type": "code",
   "execution_count": null,
   "metadata": {
    "id": "jKyGRsHQ9lnm"
   },
   "outputs": [],
   "source": [
    "#tensor로 변환\n",
    "token_ids = torch.tensor([indexed_tokens])\n",
    "segment_ids = torch.tensor([segments_ids])"
   ]
  },
  {
   "cell_type": "code",
   "execution_count": null,
   "metadata": {
    "id": "imlA1qSEMIKE"
   },
   "outputs": [],
   "source": [
    "from torch import nn\n",
    "class BERTEmbeddings(nn.Module):\n",
    "    def __init__(self,\n",
    "                 bert):\n",
    "        super(BERTEmbeddings, self).__init__()\n",
    "        self.bert = bert\n",
    "    \n",
    "    def gen_attention_mask(self, token_ids, valid_length):\n",
    "        attention_mask = torch.zeros_like(token_ids)\n",
    "        for i, v in enumerate(valid_length):\n",
    "            attention_mask[i][:v] = 1\n",
    "        return attention_mask.float()\n",
    "\n",
    "    def forward(self, token_ids, valid_length, segment_ids):\n",
    "        attention_mask = self.gen_attention_mask(token_ids, valid_length)\n",
    "        \n",
    "        encoding_layer, pooler = self.bert(input_ids = token_ids, token_type_ids = segment_ids.long(), attention_mask = attention_mask.float().to(token_ids.device))\n",
    "        return encoding_layer"
   ]
  },
  {
   "cell_type": "code",
   "execution_count": null,
   "metadata": {
    "id": "gEVwNCoaeNLL"
   },
   "outputs": [],
   "source": [
    "device = torch.device(\"cuda:0\") if torch.cuda.is_available else torch.device(\"cpu\")"
   ]
  },
  {
   "cell_type": "markdown",
   "metadata": {
    "id": "I4BvuChrDKIs"
   },
   "source": [
    "BERTmodel output\n",
    "\n",
    "        return BaseModelOutputWithPoolingAndCrossAttentions(\n",
    "            last_hidden_state=sequence_output,\n",
    "            pooler_output=pooled_output,\n",
    "            past_key_values=encoder_outputs.past_key_values,\n",
    "            hidden_states=encoder_outputs.hidden_states,\n",
    "            attentions=encoder_outputs.attentions,\n",
    "            cross_attentions=encoder_outputs.cross_attentions,"
   ]
  },
  {
   "cell_type": "code",
   "execution_count": null,
   "metadata": {
    "id": "vUzRmy7S9ngS"
   },
   "outputs": [],
   "source": [
    "with torch.no_grad():\n",
    "  output = model(input_ids=token_ids, token_type_ids=segment_ids.long(), output_hidden_states=True, return_dict=True)"
   ]
  },
  {
   "cell_type": "code",
   "execution_count": null,
   "metadata": {
    "colab": {
     "base_uri": "https://localhost:8080/"
    },
    "executionInfo": {
     "elapsed": 23,
     "status": "ok",
     "timestamp": 1629354209694,
     "user": {
      "displayName": "정종찬",
      "photoUrl": "",
      "userId": "02422834151550199890"
     },
     "user_tz": -540
    },
    "id": "NdPv6LFWzsoK",
    "outputId": "6129e201-3090-4a95-ebf9-901e16034e30"
   },
   "outputs": [
    {
     "data": {
      "text/plain": [
       "torch.Size([1, 36, 768])"
      ]
     },
     "execution_count": 239,
     "metadata": {},
     "output_type": "execute_result"
    }
   ],
   "source": [
    "output.last_hidden_state.size()"
   ]
  },
  {
   "cell_type": "code",
   "execution_count": null,
   "metadata": {
    "colab": {
     "base_uri": "https://localhost:8080/"
    },
    "executionInfo": {
     "elapsed": 565,
     "status": "ok",
     "timestamp": 1629354210239,
     "user": {
      "displayName": "정종찬",
      "photoUrl": "",
      "userId": "02422834151550199890"
     },
     "user_tz": -540
    },
    "id": "bFiDoddEz0Wq",
    "outputId": "3a3d8d53-c71c-45da-c76a-0bc028dc151e"
   },
   "outputs": [
    {
     "data": {
      "text/plain": [
       "torch.Size([1, 768])"
      ]
     },
     "execution_count": 240,
     "metadata": {},
     "output_type": "execute_result"
    }
   ],
   "source": [
    "output.pooler_output.size()"
   ]
  },
  {
   "cell_type": "markdown",
   "metadata": {
    "id": "JXbAvC33ASE-"
   },
   "source": [
    "Layer = Input Embedding + 12 BERTLayers"
   ]
  },
  {
   "cell_type": "code",
   "execution_count": null,
   "metadata": {
    "colab": {
     "base_uri": "https://localhost:8080/"
    },
    "executionInfo": {
     "elapsed": 19,
     "status": "ok",
     "timestamp": 1629354210240,
     "user": {
      "displayName": "정종찬",
      "photoUrl": "",
      "userId": "02422834151550199890"
     },
     "user_tz": -540
    },
    "id": "fHJ_Nxe79sz9",
    "outputId": "d332040e-ded5-4056-b7b8-8faa5e1653d0"
   },
   "outputs": [
    {
     "data": {
      "text/plain": [
       "13"
      ]
     },
     "execution_count": 242,
     "metadata": {},
     "output_type": "execute_result"
    }
   ],
   "source": [
    "encoded_layers = output.hidden_states\n",
    "len(encoded_layers)"
   ]
  },
  {
   "cell_type": "code",
   "execution_count": null,
   "metadata": {
    "colab": {
     "base_uri": "https://localhost:8080/"
    },
    "executionInfo": {
     "elapsed": 17,
     "status": "ok",
     "timestamp": 1629354210240,
     "user": {
      "displayName": "정종찬",
      "photoUrl": "",
      "userId": "02422834151550199890"
     },
     "user_tz": -540
    },
    "id": "kJGwoDlvN6fi",
    "outputId": "b40fbc41-f3b3-479f-dea4-fa07e560fe2b"
   },
   "outputs": [
    {
     "data": {
      "text/plain": [
       "torch.Size([36, 13, 768])"
      ]
     },
     "execution_count": 243,
     "metadata": {},
     "output_type": "execute_result"
    }
   ],
   "source": [
    "token_embeddings = torch.stack(encoded_layers, dim=0)\n",
    "token_embeddings = torch.squeeze(token_embeddings, dim=1)\n",
    "token_embeddings = token_embeddings.permute(1,0,2)\n",
    "\n",
    "token_embeddings.size()"
   ]
  },
  {
   "cell_type": "code",
   "execution_count": null,
   "metadata": {
    "colab": {
     "base_uri": "https://localhost:8080/"
    },
    "executionInfo": {
     "elapsed": 16,
     "status": "ok",
     "timestamp": 1629354210240,
     "user": {
      "displayName": "정종찬",
      "photoUrl": "",
      "userId": "02422834151550199890"
     },
     "user_tz": -540
    },
    "id": "RNhmNtYU9uTE",
    "outputId": "d99b010f-59c8-4df2-b668-8580c03c67c2"
   },
   "outputs": [
    {
     "name": "stdout",
     "output_type": "stream",
     "text": [
      "Shape is: 36 x 768\n"
     ]
    }
   ],
   "source": [
    "#단어 벡터\n",
    "#성능 향상을 위해 마지막 4개의 레이어를 더한다.\n",
    "token_vec_sum = []\n",
    "for token in token_embeddings:\n",
    "  vector = torch.sum(token[-4:], dim=0)\n",
    "  token_vec_sum.append(vector)\n",
    "  \n",
    "print ('Shape is: %d x %d' % (len(token_vec_sum), len(token_vec_sum[0])))\n",
    "\n",
    "#문장 벡터\n",
    "#간단한 방법으로 두번째 레이어의 평균값을 가져온다.\n",
    "token_vec = encoded_layers[-2][0]\n",
    "sentence_embeddings = torch.mean(token_vec, dim=0)"
   ]
  },
  {
   "cell_type": "code",
   "execution_count": null,
   "metadata": {
    "colab": {
     "base_uri": "https://localhost:8080/"
    },
    "executionInfo": {
     "elapsed": 15,
     "status": "ok",
     "timestamp": 1629354210241,
     "user": {
      "displayName": "정종찬",
      "photoUrl": "",
      "userId": "02422834151550199890"
     },
     "user_tz": -540
    },
    "id": "yJylIvF3Okqv",
    "outputId": "8f4e6c1d-d874-48d6-89b4-326a5efca285"
   },
   "outputs": [
    {
     "data": {
      "text/plain": [
       "torch.Size([768])"
      ]
     },
     "execution_count": 245,
     "metadata": {},
     "output_type": "execute_result"
    }
   ],
   "source": [
    "sentence_embeddings.shape"
   ]
  },
  {
   "cell_type": "code",
   "execution_count": null,
   "metadata": {
    "colab": {
     "base_uri": "https://localhost:8080/"
    },
    "executionInfo": {
     "elapsed": 13,
     "status": "ok",
     "timestamp": 1629354210241,
     "user": {
      "displayName": "정종찬",
      "photoUrl": "",
      "userId": "02422834151550199890"
     },
     "user_tz": -540
    },
    "id": "-A0DGA9J-qhg",
    "outputId": "9320063d-5e29-47a7-e6ad-512a6179f4bd"
   },
   "outputs": [
    {
     "name": "stdout",
     "output_type": "stream",
     "text": [
      "0 [CLS]\n",
      "1 ▁거리\n",
      "2 에\n",
      "3 ▁은행\n",
      "4 나무\n",
      "5 가\n",
      "6 ▁노\n",
      "7 랗\n",
      "8 게\n",
      "9 ▁물\n",
      "10 들\n",
      "11 었다\n",
      "12 .\n",
      "13 은행\n",
      "14 에\n",
      "15 ▁\n",
      "16 가\n",
      "17 서\n",
      "18 ▁신규\n",
      "19 ▁통\n",
      "20 장을\n",
      "21 ▁발급\n",
      "22 받고\n",
      "23 ▁집\n",
      "24 에\n",
      "25 와\n",
      "26 서\n",
      "27 ▁먹\n",
      "28 은\n",
      "29 ▁은행\n",
      "30 은\n",
      "31 ▁맛\n",
      "32 있\n",
      "33 었다\n",
      "34 .\n",
      "35 [SEP]\n"
     ]
    }
   ],
   "source": [
    "for i, token_str in enumerate(tokenized_text):\n",
    "  print (i, token_str)"
   ]
  },
  {
   "cell_type": "code",
   "execution_count": null,
   "metadata": {
    "colab": {
     "base_uri": "https://localhost:8080/"
    },
    "executionInfo": {
     "elapsed": 10,
     "status": "ok",
     "timestamp": 1629354210241,
     "user": {
      "displayName": "정종찬",
      "photoUrl": "",
      "userId": "02422834151550199890"
     },
     "user_tz": -540
    },
    "id": "RVHGKipi-tEu",
    "outputId": "4058a321-3653-437f-af28-35d550b555c9"
   },
   "outputs": [
    {
     "name": "stdout",
     "output_type": "stream",
     "text": [
      "Vector similarity for  *similar*  meanings:  0.75\n",
      "Vector similarity for *different* meanings:  0.39\n"
     ]
    }
   ],
   "source": [
    "#동음의이어 단어 벡터의 유사도(문맥이 반영됨)\n",
    "diff = 1 - cosine(token_vec_sum[3], token_vec_sum[13]) #은행나무 vs 은행(bank)\n",
    "same = 1 - cosine(token_vec_sum[3], token_vec_sum[29]) #은행나무 vs 은행(ginkog nut)\n",
    "\n",
    "print('Vector similarity for  *similar*  meanings:  %.2f' % same)\n",
    "print('Vector similarity for *different* meanings:  %.2f' % diff)"
   ]
  },
  {
   "cell_type": "code",
   "execution_count": null,
   "metadata": {
    "colab": {
     "base_uri": "https://localhost:8080/"
    },
    "executionInfo": {
     "elapsed": 389,
     "status": "ok",
     "timestamp": 1629355001527,
     "user": {
      "displayName": "정종찬",
      "photoUrl": "",
      "userId": "02422834151550199890"
     },
     "user_tz": -540
    },
    "id": "IorM3lpJ6A1x",
    "outputId": "026bbef1-a431-49e7-9853-54982cffd877"
   },
   "outputs": [
    {
     "data": {
      "text/plain": [
       "0.3180385231971741"
      ]
     },
     "execution_count": 248,
     "metadata": {},
     "output_type": "execute_result"
    }
   ],
   "source": [
    "1 - cosine(token_vec_sum[4], token_vec_sum[13])"
   ]
  }
 ],
 "metadata": {
  "colab": {
   "authorship_tag": "ABX9TyMH99aKXUUxrcqdyUfSxHu+",
   "collapsed_sections": [],
   "mount_file_id": "1GvHIkQ89N6LtE2XUXt3NI79S_zxJorrg",
   "name": "bert embeddings tutorial.ipynb",
   "provenance": []
  },
  "kernelspec": {
   "display_name": "Python 3",
   "language": "python",
   "name": "python3"
  },
  "language_info": {
   "codemirror_mode": {
    "name": "ipython",
    "version": 3
   },
   "file_extension": ".py",
   "mimetype": "text/x-python",
   "name": "python",
   "nbconvert_exporter": "python",
   "pygments_lexer": "ipython3",
   "version": "3.8.8"
  }
 },
 "nbformat": 4,
 "nbformat_minor": 1
}
